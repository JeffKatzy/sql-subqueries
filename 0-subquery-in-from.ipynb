{
 "cells": [
  {
   "cell_type": "markdown",
   "id": "2f8c2887-2321-4c21-94aa-770b35b626b2",
   "metadata": {},
   "source": [
    "# Breaking it into steps with Subqueries"
   ]
  },
  {
   "cell_type": "markdown",
   "id": "87a35fc5-7845-449f-bfb3-7cc8d5c7705b",
   "metadata": {},
   "source": [
    "### Introduction"
   ]
  },
  {
   "cell_type": "markdown",
   "id": "ebbbe82e-7dda-4f91-b3d8-d03211479bb8",
   "metadata": {},
   "source": [
    "Subqueries allows us to create temporary tables that we can then reference later in our query."
   ]
  },
  {
   "cell_type": "markdown",
   "id": "d7f5eca8-b978-4506-a191-098920b95981",
   "metadata": {},
   "source": [
    "### Loading our Data"
   ]
  },
  {
   "cell_type": "code",
   "execution_count": 3,
   "id": "21964324-f355-42fd-b8e6-7206b1437d01",
   "metadata": {},
   "outputs": [],
   "source": [
    "import sqlite3\n",
    "conn = sqlite3.connect('schools.db')"
   ]
  },
  {
   "cell_type": "code",
   "execution_count": 4,
   "id": "4cde7f2e-cd5c-4573-8e2f-fe3e2e8354de",
   "metadata": {},
   "outputs": [],
   "source": [
    "import pandas as pd\n",
    "tuitions_df = pd.read_csv('./school_prices/tuition_income.csv')"
   ]
  },
  {
   "cell_type": "code",
   "execution_count": 10,
   "id": "5506ecdf-9ce0-44a5-b959-0bbf0c2787d5",
   "metadata": {},
   "outputs": [],
   "source": [
    "salary_potential_df = pd.read_csv('./school_prices/salary_potential.csv')"
   ]
  },
  {
   "cell_type": "code",
   "execution_count": 6,
   "id": "87d68169-1035-4f8c-8540-6853b0867a84",
   "metadata": {},
   "outputs": [],
   "source": [
    "tuitions_df.to_sql('tuitions', conn)"
   ]
  },
  {
   "cell_type": "code",
   "execution_count": 12,
   "id": "150e586f-c1df-49de-bf74-7a379d949ae7",
   "metadata": {},
   "outputs": [],
   "source": [
    "salary_potential_df.to_sql('salaries', conn)"
   ]
  },
  {
   "cell_type": "markdown",
   "id": "01003986-a9da-4e35-a7bf-3d2718e81a89",
   "metadata": {},
   "source": [
    "### Exploring our Data"
   ]
  },
  {
   "cell_type": "markdown",
   "id": "4e9930f0-63a9-44d3-8898-11fa64895d24",
   "metadata": {},
   "source": [
    "Now in the dataset above, we both have both salaries and tuition data for various colleges.  Let's say that we want to join together our `salaries` and `tuitions` table so that we can see the colleges that offer the highest return on investment.  "
   ]
  },
  {
   "cell_type": "markdown",
   "id": "695574e7-e11c-438e-8b49-0e9048eaa507",
   "metadata": {},
   "source": [
    "And then let's take a look at some of the tuition data."
   ]
  },
  {
   "cell_type": "code",
   "execution_count": 17,
   "id": "795f23cc-e604-42d3-9ed2-4df3a9ac99d9",
   "metadata": {},
   "outputs": [
    {
     "data": {
      "text/html": [
       "<div>\n",
       "<style scoped>\n",
       "    .dataframe tbody tr th:only-of-type {\n",
       "        vertical-align: middle;\n",
       "    }\n",
       "\n",
       "    .dataframe tbody tr th {\n",
       "        vertical-align: top;\n",
       "    }\n",
       "\n",
       "    .dataframe thead th {\n",
       "        text-align: right;\n",
       "    }\n",
       "</style>\n",
       "<table border=\"1\" class=\"dataframe\">\n",
       "  <thead>\n",
       "    <tr style=\"text-align: right;\">\n",
       "      <th></th>\n",
       "      <th>index</th>\n",
       "      <th>name</th>\n",
       "      <th>state</th>\n",
       "      <th>total_price</th>\n",
       "      <th>year</th>\n",
       "      <th>campus</th>\n",
       "      <th>net_cost</th>\n",
       "      <th>income_lvl</th>\n",
       "    </tr>\n",
       "  </thead>\n",
       "  <tbody>\n",
       "    <tr>\n",
       "      <th>0</th>\n",
       "      <td>181033</td>\n",
       "      <td>AI Miami International University of Art and D...</td>\n",
       "      <td>FL</td>\n",
       "      <td>33319</td>\n",
       "      <td>2011</td>\n",
       "      <td>On Campus</td>\n",
       "      <td>23774.0</td>\n",
       "      <td>0 to 30,000</td>\n",
       "    </tr>\n",
       "    <tr>\n",
       "      <th>1</th>\n",
       "      <td>181034</td>\n",
       "      <td>AI Miami International University of Art and D...</td>\n",
       "      <td>FL</td>\n",
       "      <td>33319</td>\n",
       "      <td>2011</td>\n",
       "      <td>On Campus</td>\n",
       "      <td>24365.0</td>\n",
       "      <td>30,001 to 48,000</td>\n",
       "    </tr>\n",
       "    <tr>\n",
       "      <th>2</th>\n",
       "      <td>181035</td>\n",
       "      <td>AI Miami International University of Art and D...</td>\n",
       "      <td>FL</td>\n",
       "      <td>33319</td>\n",
       "      <td>2011</td>\n",
       "      <td>On Campus</td>\n",
       "      <td>27254.0</td>\n",
       "      <td>48_001 to 75,000</td>\n",
       "    </tr>\n",
       "    <tr>\n",
       "      <th>3</th>\n",
       "      <td>181036</td>\n",
       "      <td>AI Miami International University of Art and D...</td>\n",
       "      <td>FL</td>\n",
       "      <td>33319</td>\n",
       "      <td>2011</td>\n",
       "      <td>On Campus</td>\n",
       "      <td>27329.0</td>\n",
       "      <td>75,001 to 110,000</td>\n",
       "    </tr>\n",
       "    <tr>\n",
       "      <th>4</th>\n",
       "      <td>181037</td>\n",
       "      <td>AI Miami International University of Art and D...</td>\n",
       "      <td>FL</td>\n",
       "      <td>33319</td>\n",
       "      <td>2011</td>\n",
       "      <td>On Campus</td>\n",
       "      <td>28785.0</td>\n",
       "      <td>Over 110,000</td>\n",
       "    </tr>\n",
       "    <tr>\n",
       "      <th>5</th>\n",
       "      <td>181038</td>\n",
       "      <td>AI Miami International University of Art and D...</td>\n",
       "      <td>FL</td>\n",
       "      <td>33611</td>\n",
       "      <td>2012</td>\n",
       "      <td>On Campus</td>\n",
       "      <td>24350.0</td>\n",
       "      <td>0 to 30,000</td>\n",
       "    </tr>\n",
       "    <tr>\n",
       "      <th>6</th>\n",
       "      <td>181039</td>\n",
       "      <td>AI Miami International University of Art and D...</td>\n",
       "      <td>FL</td>\n",
       "      <td>33611</td>\n",
       "      <td>2012</td>\n",
       "      <td>On Campus</td>\n",
       "      <td>25229.0</td>\n",
       "      <td>30,001 to 48,000</td>\n",
       "    </tr>\n",
       "  </tbody>\n",
       "</table>\n",
       "</div>"
      ],
      "text/plain": [
       "    index                                               name state  \\\n",
       "0  181033  AI Miami International University of Art and D...    FL   \n",
       "1  181034  AI Miami International University of Art and D...    FL   \n",
       "2  181035  AI Miami International University of Art and D...    FL   \n",
       "3  181036  AI Miami International University of Art and D...    FL   \n",
       "4  181037  AI Miami International University of Art and D...    FL   \n",
       "5  181038  AI Miami International University of Art and D...    FL   \n",
       "6  181039  AI Miami International University of Art and D...    FL   \n",
       "\n",
       "   total_price  year     campus  net_cost         income_lvl  \n",
       "0        33319  2011  On Campus   23774.0        0 to 30,000  \n",
       "1        33319  2011  On Campus   24365.0   30,001 to 48,000  \n",
       "2        33319  2011  On Campus   27254.0   48_001 to 75,000  \n",
       "3        33319  2011  On Campus   27329.0  75,001 to 110,000  \n",
       "4        33319  2011  On Campus   28785.0       Over 110,000  \n",
       "5        33611  2012  On Campus   24350.0        0 to 30,000  \n",
       "6        33611  2012  On Campus   25229.0   30,001 to 48,000  "
      ]
     },
     "execution_count": 17,
     "metadata": {},
     "output_type": "execute_result"
    }
   ],
   "source": [
    "df = pd.read_sql(\"SELECT * FROM tuitions ORDER BY name ASC\", conn)\n",
    "\n",
    "df[:7]"
   ]
  },
  {
   "cell_type": "markdown",
   "id": "56185249-1dac-4a83-8893-6b8390a4f894",
   "metadata": {},
   "source": [
    "Now one thing that we'll notice is that while there only appears to record per school in the `salaries` table, there are multiple records per school in the `tuitions` table.  One way to join these tables together is by first reducing the tuitions table so there is also one record per school. \n",
    "\n",
    "Looking at the data, we see there are different average tuitions per year based on each income bracket.  Let's group these together."
   ]
  },
  {
   "cell_type": "code",
   "execution_count": 20,
   "id": "20325389-e5ad-452f-be5b-a3597c0d6437",
   "metadata": {},
   "outputs": [],
   "source": [
    "df = pd.read_sql(\"SELECT * FROM tuitions GROUP BY name, year\", conn)"
   ]
  },
  {
   "cell_type": "code",
   "execution_count": 23,
   "id": "2a17b36c-e804-41e5-89c8-59b2e2bee42d",
   "metadata": {},
   "outputs": [],
   "source": [
    "df.to_sql('school_grouped_tuitions', conn)"
   ]
  },
  {
   "cell_type": "code",
   "execution_count": 26,
   "id": "373b41c9-74e8-4b92-ada6-4e9f09b90f1a",
   "metadata": {},
   "outputs": [
    {
     "data": {
      "text/html": [
       "<div>\n",
       "<style scoped>\n",
       "    .dataframe tbody tr th:only-of-type {\n",
       "        vertical-align: middle;\n",
       "    }\n",
       "\n",
       "    .dataframe tbody tr th {\n",
       "        vertical-align: top;\n",
       "    }\n",
       "\n",
       "    .dataframe thead th {\n",
       "        text-align: right;\n",
       "    }\n",
       "</style>\n",
       "<table border=\"1\" class=\"dataframe\">\n",
       "  <thead>\n",
       "    <tr style=\"text-align: right;\">\n",
       "      <th></th>\n",
       "      <th>level_0</th>\n",
       "      <th>index</th>\n",
       "      <th>name</th>\n",
       "      <th>state</th>\n",
       "      <th>total_price</th>\n",
       "      <th>year</th>\n",
       "      <th>campus</th>\n",
       "      <th>net_cost</th>\n",
       "      <th>income_lvl</th>\n",
       "    </tr>\n",
       "  </thead>\n",
       "  <tbody>\n",
       "    <tr>\n",
       "      <th>0</th>\n",
       "      <td>0</td>\n",
       "      <td>181068</td>\n",
       "      <td>AI Miami International University of Art and D...</td>\n",
       "      <td>FL</td>\n",
       "      <td>37464</td>\n",
       "      <td>2010</td>\n",
       "      <td>Off Campus</td>\n",
       "      <td>25935.0</td>\n",
       "      <td>0 to 30,000</td>\n",
       "    </tr>\n",
       "    <tr>\n",
       "      <th>1</th>\n",
       "      <td>1</td>\n",
       "      <td>181033</td>\n",
       "      <td>AI Miami International University of Art and D...</td>\n",
       "      <td>FL</td>\n",
       "      <td>33319</td>\n",
       "      <td>2011</td>\n",
       "      <td>On Campus</td>\n",
       "      <td>23774.0</td>\n",
       "      <td>0 to 30,000</td>\n",
       "    </tr>\n",
       "  </tbody>\n",
       "</table>\n",
       "</div>"
      ],
      "text/plain": [
       "   level_0   index                                               name state  \\\n",
       "0        0  181068  AI Miami International University of Art and D...    FL   \n",
       "1        1  181033  AI Miami International University of Art and D...    FL   \n",
       "\n",
       "   total_price  year      campus  net_cost   income_lvl  \n",
       "0        37464  2010  Off Campus   25935.0  0 to 30,000  \n",
       "1        33319  2011   On Campus   23774.0  0 to 30,000  "
      ]
     },
     "execution_count": 26,
     "metadata": {},
     "output_type": "execute_result"
    }
   ],
   "source": [
    "pd.read_sql(\"SELECT * FROM school_grouped_tuitions\", conn)[:2]"
   ]
  },
  {
   "cell_type": "markdown",
   "id": "6f8e7c01-39a7-437d-a39b-6261341bdab8",
   "metadata": {},
   "source": [
    "Now let's say that we only want to view the most recent record for each school."
   ]
  },
  {
   "cell_type": "code",
   "execution_count": 31,
   "id": "e52b8b8f-8f4f-489c-be1d-6872eecd7b56",
   "metadata": {},
   "outputs": [],
   "source": [
    "df = pd.read_sql(\"SELECT name, total_price as average_price, max(year) as year FROM school_grouped_tuitions GROUP BY name\", conn)"
   ]
  },
  {
   "cell_type": "code",
   "execution_count": 32,
   "id": "0523945b-cccf-4a5a-bc90-45a99250ce3a",
   "metadata": {},
   "outputs": [
    {
     "data": {
      "text/html": [
       "<div>\n",
       "<style scoped>\n",
       "    .dataframe tbody tr th:only-of-type {\n",
       "        vertical-align: middle;\n",
       "    }\n",
       "\n",
       "    .dataframe tbody tr th {\n",
       "        vertical-align: top;\n",
       "    }\n",
       "\n",
       "    .dataframe thead th {\n",
       "        text-align: right;\n",
       "    }\n",
       "</style>\n",
       "<table border=\"1\" class=\"dataframe\">\n",
       "  <thead>\n",
       "    <tr style=\"text-align: right;\">\n",
       "      <th></th>\n",
       "      <th>name</th>\n",
       "      <th>average_price</th>\n",
       "      <th>year</th>\n",
       "    </tr>\n",
       "  </thead>\n",
       "  <tbody>\n",
       "    <tr>\n",
       "      <th>0</th>\n",
       "      <td>AI Miami International University of Art and D...</td>\n",
       "      <td>35514</td>\n",
       "      <td>2017</td>\n",
       "    </tr>\n",
       "    <tr>\n",
       "      <th>1</th>\n",
       "      <td>ASA College</td>\n",
       "      <td>33460</td>\n",
       "      <td>2018</td>\n",
       "    </tr>\n",
       "  </tbody>\n",
       "</table>\n",
       "</div>"
      ],
      "text/plain": [
       "                                                name  average_price  year\n",
       "0  AI Miami International University of Art and D...          35514  2017\n",
       "1                                        ASA College          33460  2018"
      ]
     },
     "execution_count": 32,
     "metadata": {},
     "output_type": "execute_result"
    }
   ],
   "source": [
    "df[:2]"
   ]
  },
  {
   "cell_type": "markdown",
   "id": "671d0733-cb40-4886-bec3-925572014552",
   "metadata": {},
   "source": [
    "Now above, we performed this in two steps, by first calculating the average cost per school, per year in a table called `school_grouped_tuitions`.  We then referenced that table to find the average_price for the most recent school school per year.  It turns out that with subqueries we can perform each of these steps in a single statement.  Here's how."
   ]
  },
  {
   "cell_type": "markdown",
   "id": "8e3da458-adaf-4ce0-a8ed-5feec884c022",
   "metadata": {},
   "source": [
    "### Writing Subqueries"
   ]
  },
  {
   "cell_type": "markdown",
   "id": "bc4407f6-37cf-4d94-9290-e96d92645272",
   "metadata": {},
   "source": [
    "We again start with the query that groups by our tuition data by name and year. "
   ]
  },
  {
   "cell_type": "markdown",
   "id": "4e3e4b32-cbf7-4cc8-924b-7fb1da4d3ed0",
   "metadata": {},
   "source": [
    "```sql\n",
    "SELECT * FROM tuitions GROUP BY name, year\n",
    "```"
   ]
  },
  {
   "cell_type": "code",
   "execution_count": 33,
   "id": "00c37ba6-a9db-444f-832e-cc9b39531af6",
   "metadata": {},
   "outputs": [
    {
     "data": {
      "text/html": [
       "<div>\n",
       "<style scoped>\n",
       "    .dataframe tbody tr th:only-of-type {\n",
       "        vertical-align: middle;\n",
       "    }\n",
       "\n",
       "    .dataframe tbody tr th {\n",
       "        vertical-align: top;\n",
       "    }\n",
       "\n",
       "    .dataframe thead th {\n",
       "        text-align: right;\n",
       "    }\n",
       "</style>\n",
       "<table border=\"1\" class=\"dataframe\">\n",
       "  <thead>\n",
       "    <tr style=\"text-align: right;\">\n",
       "      <th></th>\n",
       "      <th>index</th>\n",
       "      <th>name</th>\n",
       "      <th>state</th>\n",
       "      <th>total_price</th>\n",
       "      <th>year</th>\n",
       "      <th>campus</th>\n",
       "      <th>net_cost</th>\n",
       "      <th>income_lvl</th>\n",
       "    </tr>\n",
       "  </thead>\n",
       "  <tbody>\n",
       "    <tr>\n",
       "      <th>0</th>\n",
       "      <td>181068</td>\n",
       "      <td>AI Miami International University of Art and D...</td>\n",
       "      <td>FL</td>\n",
       "      <td>37464</td>\n",
       "      <td>2010</td>\n",
       "      <td>Off Campus</td>\n",
       "      <td>25935.0</td>\n",
       "      <td>0 to 30,000</td>\n",
       "    </tr>\n",
       "    <tr>\n",
       "      <th>1</th>\n",
       "      <td>181033</td>\n",
       "      <td>AI Miami International University of Art and D...</td>\n",
       "      <td>FL</td>\n",
       "      <td>33319</td>\n",
       "      <td>2011</td>\n",
       "      <td>On Campus</td>\n",
       "      <td>23774.0</td>\n",
       "      <td>0 to 30,000</td>\n",
       "    </tr>\n",
       "  </tbody>\n",
       "</table>\n",
       "</div>"
      ],
      "text/plain": [
       "    index                                               name state  \\\n",
       "0  181068  AI Miami International University of Art and D...    FL   \n",
       "1  181033  AI Miami International University of Art and D...    FL   \n",
       "\n",
       "   total_price  year      campus  net_cost   income_lvl  \n",
       "0        37464  2010  Off Campus   25935.0  0 to 30,000  \n",
       "1        33319  2011   On Campus   23774.0  0 to 30,000  "
      ]
     },
     "execution_count": 33,
     "metadata": {},
     "output_type": "execute_result"
    }
   ],
   "source": [
    "tuitions_df = pd.read_sql(\"SELECT * FROM tuitions GROUP BY name, year\", conn)\n",
    "tuitions_df[:2]"
   ]
  },
  {
   "cell_type": "markdown",
   "id": "d129ed93-24c3-4cc5-a47c-2db04790980f",
   "metadata": {},
   "source": [
    "And we can then reference these results by first wrapping the query in parentheses, using the `as` keyword to assign an alias, and then referencing that subquery."
   ]
  },
  {
   "cell_type": "markdown",
   "id": "32e2c97b-3d10-4112-a8fc-6ae6e24f28fa",
   "metadata": {},
   "source": [
    "```sql\n",
    "SELECT * FROM (SELECT * FROM tuitions GROUP BY name, year) as school_grouped_tuitions;\n",
    "```"
   ]
  },
  {
   "cell_type": "code",
   "execution_count": 35,
   "id": "b638ab78-a28a-409c-a2bc-66dff8a056f8",
   "metadata": {},
   "outputs": [
    {
     "data": {
      "text/html": [
       "<div>\n",
       "<style scoped>\n",
       "    .dataframe tbody tr th:only-of-type {\n",
       "        vertical-align: middle;\n",
       "    }\n",
       "\n",
       "    .dataframe tbody tr th {\n",
       "        vertical-align: top;\n",
       "    }\n",
       "\n",
       "    .dataframe thead th {\n",
       "        text-align: right;\n",
       "    }\n",
       "</style>\n",
       "<table border=\"1\" class=\"dataframe\">\n",
       "  <thead>\n",
       "    <tr style=\"text-align: right;\">\n",
       "      <th></th>\n",
       "      <th>index</th>\n",
       "      <th>name</th>\n",
       "      <th>state</th>\n",
       "      <th>total_price</th>\n",
       "      <th>year</th>\n",
       "      <th>campus</th>\n",
       "      <th>net_cost</th>\n",
       "      <th>income_lvl</th>\n",
       "    </tr>\n",
       "  </thead>\n",
       "  <tbody>\n",
       "    <tr>\n",
       "      <th>0</th>\n",
       "      <td>181068</td>\n",
       "      <td>AI Miami International University of Art and D...</td>\n",
       "      <td>FL</td>\n",
       "      <td>37464</td>\n",
       "      <td>2010</td>\n",
       "      <td>Off Campus</td>\n",
       "      <td>25935.0</td>\n",
       "      <td>0 to 30,000</td>\n",
       "    </tr>\n",
       "    <tr>\n",
       "      <th>1</th>\n",
       "      <td>181033</td>\n",
       "      <td>AI Miami International University of Art and D...</td>\n",
       "      <td>FL</td>\n",
       "      <td>33319</td>\n",
       "      <td>2011</td>\n",
       "      <td>On Campus</td>\n",
       "      <td>23774.0</td>\n",
       "      <td>0 to 30,000</td>\n",
       "    </tr>\n",
       "  </tbody>\n",
       "</table>\n",
       "</div>"
      ],
      "text/plain": [
       "    index                                               name state  \\\n",
       "0  181068  AI Miami International University of Art and D...    FL   \n",
       "1  181033  AI Miami International University of Art and D...    FL   \n",
       "\n",
       "   total_price  year      campus  net_cost   income_lvl  \n",
       "0        37464  2010  Off Campus   25935.0  0 to 30,000  \n",
       "1        33319  2011   On Campus   23774.0  0 to 30,000  "
      ]
     },
     "execution_count": 35,
     "metadata": {},
     "output_type": "execute_result"
    }
   ],
   "source": [
    "tuitions_df = pd.read_sql(\"\"\"\n",
    "SELECT * FROM (SELECT * FROM tuitions GROUP BY name, year) as school_grouped_tuitions;\n",
    "\"\"\", conn)\n",
    "\n",
    "tuitions_df[:2]"
   ]
  },
  {
   "cell_type": "markdown",
   "id": "f8ea6be9-d953-4d95-9b03-42833c90fadf",
   "metadata": {},
   "source": [
    "So notice in the above, we reference the result of the subquery as if it were a table itself.  In the query above, we simply return all of the results of the subquery.  This time, let's use the derived table to return only a single row per school."
   ]
  },
  {
   "cell_type": "code",
   "execution_count": 37,
   "id": "4ff707f9-240c-4c72-9a4d-0abde04dcfb1",
   "metadata": {},
   "outputs": [
    {
     "data": {
      "text/html": [
       "<div>\n",
       "<style scoped>\n",
       "    .dataframe tbody tr th:only-of-type {\n",
       "        vertical-align: middle;\n",
       "    }\n",
       "\n",
       "    .dataframe tbody tr th {\n",
       "        vertical-align: top;\n",
       "    }\n",
       "\n",
       "    .dataframe thead th {\n",
       "        text-align: right;\n",
       "    }\n",
       "</style>\n",
       "<table border=\"1\" class=\"dataframe\">\n",
       "  <thead>\n",
       "    <tr style=\"text-align: right;\">\n",
       "      <th></th>\n",
       "      <th>name</th>\n",
       "      <th>average_price</th>\n",
       "      <th>year</th>\n",
       "    </tr>\n",
       "  </thead>\n",
       "  <tbody>\n",
       "    <tr>\n",
       "      <th>0</th>\n",
       "      <td>AI Miami International University of Art and D...</td>\n",
       "      <td>35514</td>\n",
       "      <td>2017</td>\n",
       "    </tr>\n",
       "    <tr>\n",
       "      <th>1</th>\n",
       "      <td>ASA College</td>\n",
       "      <td>33460</td>\n",
       "      <td>2018</td>\n",
       "    </tr>\n",
       "  </tbody>\n",
       "</table>\n",
       "</div>"
      ],
      "text/plain": [
       "                                                name  average_price  year\n",
       "0  AI Miami International University of Art and D...          35514  2017\n",
       "1                                        ASA College          33460  2018"
      ]
     },
     "execution_count": 37,
     "metadata": {},
     "output_type": "execute_result"
    }
   ],
   "source": [
    "sql = \"\"\"SELECT name, total_price as average_price, max(year) as year FROM \n",
    "(SELECT * FROM tuitions GROUP BY name, year) as school_grouped_tuitions\n",
    "GROUP BY name\"\"\"\n",
    "\n",
    "tuitions_df = pd.read_sql(sql, conn)\n",
    "tuitions_df[:2]"
   ]
  },
  {
   "cell_type": "markdown",
   "id": "e949f462-742e-48d3-b2a0-ab851334be5a",
   "metadata": {},
   "source": [
    "Let's see this in cleaner syntax."
   ]
  },
  {
   "cell_type": "markdown",
   "id": "2ac7e372-2e22-4936-8daf-1fcc0fa666eb",
   "metadata": {},
   "source": [
    "```sql \n",
    "SELECT name, total_price as average_price, max(year) as year FROM \n",
    "(SELECT * FROM tuitions GROUP BY name, year) as school_grouped_tuitions\n",
    "GROUP BY name\n",
    "```"
   ]
  },
  {
   "cell_type": "markdown",
   "id": "3413552b-b790-48e9-932b-85ae571d269d",
   "metadata": {},
   "source": [
    "So in the outer SELECT statement we select from the subquery -- or the derived table.  Notice also that the subquery itself is a valid select statement."
   ]
  },
  {
   "cell_type": "markdown",
   "id": "7982ec90-95d3-494a-a7a5-6f70870e44fc",
   "metadata": {},
   "source": [
    "### Deeper on the Derived Table"
   ]
  },
  {
   "cell_type": "markdown",
   "id": "5d71928e-4007-49d8-98fe-707fa4b328d8",
   "metadata": {},
   "source": [
    "We really should treat the derived table just like a table in SQL.  For example, if we select certain columns in the subquery, only these columns are can be referenced when selecting from the derived table.  "
   ]
  },
  {
   "cell_type": "code",
   "execution_count": 41,
   "id": "a0aa1d70-535c-4820-8913-1f5cda744b6d",
   "metadata": {},
   "outputs": [
    {
     "data": {
      "text/html": [
       "<div>\n",
       "<style scoped>\n",
       "    .dataframe tbody tr th:only-of-type {\n",
       "        vertical-align: middle;\n",
       "    }\n",
       "\n",
       "    .dataframe tbody tr th {\n",
       "        vertical-align: top;\n",
       "    }\n",
       "\n",
       "    .dataframe thead th {\n",
       "        text-align: right;\n",
       "    }\n",
       "</style>\n",
       "<table border=\"1\" class=\"dataframe\">\n",
       "  <thead>\n",
       "    <tr style=\"text-align: right;\">\n",
       "      <th></th>\n",
       "      <th>college</th>\n",
       "      <th>average_price</th>\n",
       "      <th>year</th>\n",
       "    </tr>\n",
       "  </thead>\n",
       "  <tbody>\n",
       "    <tr>\n",
       "      <th>0</th>\n",
       "      <td>AI Miami International University of Art and D...</td>\n",
       "      <td>35514</td>\n",
       "      <td>2017</td>\n",
       "    </tr>\n",
       "    <tr>\n",
       "      <th>1</th>\n",
       "      <td>ASA College</td>\n",
       "      <td>33460</td>\n",
       "      <td>2018</td>\n",
       "    </tr>\n",
       "  </tbody>\n",
       "</table>\n",
       "</div>"
      ],
      "text/plain": [
       "                                             college  average_price  year\n",
       "0  AI Miami International University of Art and D...          35514  2017\n",
       "1                                        ASA College          33460  2018"
      ]
     },
     "execution_count": 41,
     "metadata": {},
     "output_type": "execute_result"
    }
   ],
   "source": [
    "sql = \"\"\"SELECT college, average_price, max(year) as year FROM \n",
    "(SELECT name as college, total_price as average_price, year, net_cost FROM tuitions GROUP BY name, year)\n",
    "as school_grouped_tuitions\n",
    "GROUP BY college\"\"\"\n",
    "\n",
    "tuitions_df = pd.read_sql(sql, conn)\n",
    "tuitions_df[:2]"
   ]
  },
  {
   "cell_type": "markdown",
   "id": "edb4b351-2ee1-448e-8ecf-69a20f3263c8",
   "metadata": {},
   "source": [
    "So notice that this time in the subequery we only selected the `name`, `total_price`, `year` and `net_cost` columns, aliasing `name` as college and total_price as average_price.  And then we selected referenced these columns of the derived table  -- college, average_price and year."
   ]
  },
  {
   "cell_type": "markdown",
   "id": "9124f91c-76dc-4577-9816-db44c2380a25",
   "metadata": {},
   "source": [
    "### Subqueries all the way down"
   ]
  },
  {
   "cell_type": "markdown",
   "id": "a061260a-6ae3-44c8-9883-cc0bf1145817",
   "metadata": {},
   "source": [
    "So remember that our pattern for using a subquery is simply to write a select statement and wrap it in parentheses and assign an alias."
   ]
  },
  {
   "cell_type": "markdown",
   "id": "6f066905-6124-4789-80eb-a4acacf779f5",
   "metadata": {},
   "source": [
    "```sql \n",
    "(SELECT * FROM tuitions GROUP BY name, year) as school_grouped_tuitions\n",
    "```"
   ]
  },
  {
   "cell_type": "markdown",
   "id": "c19545a9-21ec-4bc3-80ec-fbac411bd7a2",
   "metadata": {},
   "source": [
    "If want, we can also turn our query above into a subquery by following the same pattern:"
   ]
  },
  {
   "cell_type": "markdown",
   "id": "12419c7c-927e-4443-bc11-3f9e57f193aa",
   "metadata": {},
   "source": [
    "> So we start with the following query:"
   ]
  },
  {
   "cell_type": "markdown",
   "id": "0870847e-4ee8-432d-a598-262c5f61b153",
   "metadata": {},
   "source": [
    "```sql\n",
    "SELECT college, average_price, max(year) as year FROM \n",
    "\n",
    "    (SELECT name as college, total_price as average_price, year, net_cost FROM tuitions GROUP BY name, year)\n",
    "    as school_grouped_tuitions\n",
    "GROUP BY college\n",
    "```"
   ]
  },
  {
   "cell_type": "markdown",
   "id": "506beb2b-a9be-4216-812b-1ceae0310145",
   "metadata": {},
   "source": [
    "And then turn it into a subquery by wrapping the whole thing in parentheses and specifying an alias."
   ]
  },
  {
   "cell_type": "markdown",
   "id": "22052ddf-200f-44a6-8a92-188f561e5740",
   "metadata": {},
   "source": [
    "```sql\n",
    "SELECT * FROM\n",
    "    (SELECT college, average_price, max(year) as year FROM \n",
    "        (SELECT name as college, total_price as average_price, year, net_cost \n",
    "         FROM tuitions GROUP BY name, year)\n",
    "        as school_grouped_tuitions\n",
    "        GROUP BY college)\n",
    "        as tuitions\n",
    "```"
   ]
  },
  {
   "cell_type": "markdown",
   "id": "c35cc167-d88d-428b-b440-0c6a693b64f3",
   "metadata": {},
   "source": [
    "Below we show the result."
   ]
  },
  {
   "cell_type": "code",
   "execution_count": 43,
   "id": "d8e49360-2ee1-473c-b6d3-aac4dd1f800e",
   "metadata": {},
   "outputs": [
    {
     "data": {
      "text/html": [
       "<div>\n",
       "<style scoped>\n",
       "    .dataframe tbody tr th:only-of-type {\n",
       "        vertical-align: middle;\n",
       "    }\n",
       "\n",
       "    .dataframe tbody tr th {\n",
       "        vertical-align: top;\n",
       "    }\n",
       "\n",
       "    .dataframe thead th {\n",
       "        text-align: right;\n",
       "    }\n",
       "</style>\n",
       "<table border=\"1\" class=\"dataframe\">\n",
       "  <thead>\n",
       "    <tr style=\"text-align: right;\">\n",
       "      <th></th>\n",
       "      <th>college</th>\n",
       "      <th>average_price</th>\n",
       "      <th>year</th>\n",
       "    </tr>\n",
       "  </thead>\n",
       "  <tbody>\n",
       "    <tr>\n",
       "      <th>0</th>\n",
       "      <td>AI Miami International University of Art and D...</td>\n",
       "      <td>35514</td>\n",
       "      <td>2017</td>\n",
       "    </tr>\n",
       "    <tr>\n",
       "      <th>1</th>\n",
       "      <td>ASA College</td>\n",
       "      <td>33460</td>\n",
       "      <td>2018</td>\n",
       "    </tr>\n",
       "  </tbody>\n",
       "</table>\n",
       "</div>"
      ],
      "text/plain": [
       "                                             college  average_price  year\n",
       "0  AI Miami International University of Art and D...          35514  2017\n",
       "1                                        ASA College          33460  2018"
      ]
     },
     "execution_count": 43,
     "metadata": {},
     "output_type": "execute_result"
    }
   ],
   "source": [
    "sql = \"\"\"SELECT * FROM (SELECT college, average_price, max(year) as year FROM \n",
    "(SELECT name as college, total_price as average_price, year, net_cost FROM tuitions GROUP BY name, year)\n",
    "as school_grouped_tuitions\n",
    "GROUP BY college) as tuitions\"\"\"\n",
    "\n",
    "tuitions_df = pd.read_sql(sql, conn)\n",
    "tuitions_df[:2]"
   ]
  },
  {
   "cell_type": "markdown",
   "id": "ad5565ed-0234-4ff2-94ea-39949bea49d5",
   "metadata": {},
   "source": [
    "### Summary"
   ]
  },
  {
   "cell_type": "markdown",
   "id": "2015e3fc-b235-401d-acae-f03c20732593",
   "metadata": {},
   "source": [
    "Subqueries allow us to create to treat the result of a SELECT statement as a derived table.  Doing so allows us to break our SQL calculations into steps.\n",
    "\n",
    "Above, we started with our select statement of:\n",
    "\n",
    "```\n",
    "SELECT * FROM tuitions GROUP BY name, year\n",
    "```\n",
    "And then turned it into a subquery by wrapping it in parentheses and setting the result to an alias.  Notice that the outer query is now selecting from the result of the subquery, `school_grouped_tuitions`."
   ]
  },
  {
   "cell_type": "markdown",
   "id": "3908e3cc-b824-4a22-9bb9-d09e0729bc08",
   "metadata": {},
   "source": [
    "```sql\n",
    "SELECT * FROM (SELECT * FROM tuitions GROUP BY name, year) as school_grouped_tuitions;\n",
    "```"
   ]
  },
  {
   "cell_type": "code",
   "execution_count": 44,
   "id": "c79387c2-e40d-4d19-8696-ce4220eb2951",
   "metadata": {},
   "outputs": [
    {
     "data": {
      "text/html": [
       "<div>\n",
       "<style scoped>\n",
       "    .dataframe tbody tr th:only-of-type {\n",
       "        vertical-align: middle;\n",
       "    }\n",
       "\n",
       "    .dataframe tbody tr th {\n",
       "        vertical-align: top;\n",
       "    }\n",
       "\n",
       "    .dataframe thead th {\n",
       "        text-align: right;\n",
       "    }\n",
       "</style>\n",
       "<table border=\"1\" class=\"dataframe\">\n",
       "  <thead>\n",
       "    <tr style=\"text-align: right;\">\n",
       "      <th></th>\n",
       "      <th>index</th>\n",
       "      <th>name</th>\n",
       "      <th>state</th>\n",
       "      <th>total_price</th>\n",
       "      <th>year</th>\n",
       "      <th>campus</th>\n",
       "      <th>net_cost</th>\n",
       "      <th>income_lvl</th>\n",
       "    </tr>\n",
       "  </thead>\n",
       "  <tbody>\n",
       "    <tr>\n",
       "      <th>0</th>\n",
       "      <td>181068</td>\n",
       "      <td>AI Miami International University of Art and D...</td>\n",
       "      <td>FL</td>\n",
       "      <td>37464</td>\n",
       "      <td>2010</td>\n",
       "      <td>Off Campus</td>\n",
       "      <td>25935.0</td>\n",
       "      <td>0 to 30,000</td>\n",
       "    </tr>\n",
       "    <tr>\n",
       "      <th>1</th>\n",
       "      <td>181033</td>\n",
       "      <td>AI Miami International University of Art and D...</td>\n",
       "      <td>FL</td>\n",
       "      <td>33319</td>\n",
       "      <td>2011</td>\n",
       "      <td>On Campus</td>\n",
       "      <td>23774.0</td>\n",
       "      <td>0 to 30,000</td>\n",
       "    </tr>\n",
       "  </tbody>\n",
       "</table>\n",
       "</div>"
      ],
      "text/plain": [
       "    index                                               name state  \\\n",
       "0  181068  AI Miami International University of Art and D...    FL   \n",
       "1  181033  AI Miami International University of Art and D...    FL   \n",
       "\n",
       "   total_price  year      campus  net_cost   income_lvl  \n",
       "0        37464  2010  Off Campus   25935.0  0 to 30,000  \n",
       "1        33319  2011   On Campus   23774.0  0 to 30,000  "
      ]
     },
     "execution_count": 44,
     "metadata": {},
     "output_type": "execute_result"
    }
   ],
   "source": [
    "tuitions_df = pd.read_sql(\"\"\"\n",
    "SELECT * FROM (SELECT * FROM tuitions GROUP BY name, year) as school_grouped_tuitions;\n",
    "\"\"\", conn)\n",
    "\n",
    "tuitions_df[:2]"
   ]
  },
  {
   "cell_type": "markdown",
   "id": "2e2417bc-cc2e-4ce4-b5fb-4b75098261a4",
   "metadata": {},
   "source": [
    "So our subquery resulted in records grouped by school and year.  And then we used we further grouped these results so we only see the most recent record per year. "
   ]
  },
  {
   "cell_type": "markdown",
   "id": "2f93f7ed-a9f4-4bc0-bee9-06b1fc5ae69f",
   "metadata": {},
   "source": [
    "```sql\n",
    "SELECT college, average_price, max(year) as year FROM \n",
    "    (SELECT name as college, total_price as average_price, year, net_cost FROM tuitions \n",
    "     GROUP BY name, year) as school_grouped_tuitions\n",
    "GROUP BY college\n",
    "```"
   ]
  },
  {
   "cell_type": "code",
   "execution_count": 45,
   "id": "1d34c106-099e-4b34-971d-df9c1262b6af",
   "metadata": {},
   "outputs": [
    {
     "data": {
      "text/html": [
       "<div>\n",
       "<style scoped>\n",
       "    .dataframe tbody tr th:only-of-type {\n",
       "        vertical-align: middle;\n",
       "    }\n",
       "\n",
       "    .dataframe tbody tr th {\n",
       "        vertical-align: top;\n",
       "    }\n",
       "\n",
       "    .dataframe thead th {\n",
       "        text-align: right;\n",
       "    }\n",
       "</style>\n",
       "<table border=\"1\" class=\"dataframe\">\n",
       "  <thead>\n",
       "    <tr style=\"text-align: right;\">\n",
       "      <th></th>\n",
       "      <th>college</th>\n",
       "      <th>average_price</th>\n",
       "      <th>year</th>\n",
       "    </tr>\n",
       "  </thead>\n",
       "  <tbody>\n",
       "    <tr>\n",
       "      <th>0</th>\n",
       "      <td>AI Miami International University of Art and D...</td>\n",
       "      <td>35514</td>\n",
       "      <td>2017</td>\n",
       "    </tr>\n",
       "    <tr>\n",
       "      <th>1</th>\n",
       "      <td>ASA College</td>\n",
       "      <td>33460</td>\n",
       "      <td>2018</td>\n",
       "    </tr>\n",
       "  </tbody>\n",
       "</table>\n",
       "</div>"
      ],
      "text/plain": [
       "                                             college  average_price  year\n",
       "0  AI Miami International University of Art and D...          35514  2017\n",
       "1                                        ASA College          33460  2018"
      ]
     },
     "execution_count": 45,
     "metadata": {},
     "output_type": "execute_result"
    }
   ],
   "source": [
    "sql = \"\"\"SELECT * FROM (SELECT college, average_price, max(year) as year FROM \n",
    "(SELECT name as college, total_price as average_price, year, net_cost FROM tuitions GROUP BY name, year)\n",
    "as school_grouped_tuitions\n",
    "GROUP BY college) as tuitions\"\"\"\n",
    "\n",
    "tuitions_df = pd.read_sql(sql, conn)\n",
    "tuitions_df[:2]"
   ]
  }
 ],
 "metadata": {
  "kernelspec": {
   "display_name": "Python 3",
   "language": "python",
   "name": "python3"
  },
  "language_info": {
   "codemirror_mode": {
    "name": "ipython",
    "version": 3
   },
   "file_extension": ".py",
   "mimetype": "text/x-python",
   "name": "python",
   "nbconvert_exporter": "python",
   "pygments_lexer": "ipython3",
   "version": "3.8.8"
  }
 },
 "nbformat": 4,
 "nbformat_minor": 5
}
