{
 "cells": [
  {
   "cell_type": "markdown",
   "id": "be751854-1464-4917-b3b2-3218e7f0a96e",
   "metadata": {},
   "source": [
    "# Subqueries in Select Lab"
   ]
  },
  {
   "cell_type": "code",
   "execution_count": 2,
   "id": "4b658719-dd3f-4b86-9e51-c0867bb4ad03",
   "metadata": {},
   "outputs": [
    {
     "data": {
      "text/html": [
       "<div>\n",
       "<style scoped>\n",
       "    .dataframe tbody tr th:only-of-type {\n",
       "        vertical-align: middle;\n",
       "    }\n",
       "\n",
       "    .dataframe tbody tr th {\n",
       "        vertical-align: top;\n",
       "    }\n",
       "\n",
       "    .dataframe thead th {\n",
       "        text-align: right;\n",
       "    }\n",
       "</style>\n",
       "<table border=\"1\" class=\"dataframe\">\n",
       "  <thead>\n",
       "    <tr style=\"text-align: right;\">\n",
       "      <th></th>\n",
       "      <th>date</th>\n",
       "      <th>open_price</th>\n",
       "      <th>high_price</th>\n",
       "      <th>low_price</th>\n",
       "      <th>close_price</th>\n",
       "      <th>volume</th>\n",
       "      <th>adjclose_price</th>\n",
       "    </tr>\n",
       "  </thead>\n",
       "  <tbody>\n",
       "    <tr>\n",
       "      <th>0</th>\n",
       "      <td>2021-01-28</td>\n",
       "      <td>265.000000</td>\n",
       "      <td>483.0</td>\n",
       "      <td>112.25</td>\n",
       "      <td>193.600006</td>\n",
       "      <td>58815800.0</td>\n",
       "      <td>193.600006</td>\n",
       "    </tr>\n",
       "    <tr>\n",
       "      <th>1</th>\n",
       "      <td>2021-01-27</td>\n",
       "      <td>354.829987</td>\n",
       "      <td>380.0</td>\n",
       "      <td>249.00</td>\n",
       "      <td>347.510010</td>\n",
       "      <td>93396700.0</td>\n",
       "      <td>347.510010</td>\n",
       "    </tr>\n",
       "  </tbody>\n",
       "</table>\n",
       "</div>"
      ],
      "text/plain": [
       "         date  open_price  high_price  low_price  close_price      volume  \\\n",
       "0  2021-01-28  265.000000       483.0     112.25   193.600006  58815800.0   \n",
       "1  2021-01-27  354.829987       380.0     249.00   347.510010  93396700.0   \n",
       "\n",
       "   adjclose_price  \n",
       "0      193.600006  \n",
       "1      347.510010  "
      ]
     },
     "execution_count": 2,
     "metadata": {},
     "output_type": "execute_result"
    }
   ],
   "source": [
    "import pandas as pd\n",
    "df = pd.read_csv('./game_stock.csv')\n",
    "df[:2]"
   ]
  },
  {
   "cell_type": "markdown",
   "id": "881b614b-5633-4b83-934b-4f63e996ebf2",
   "metadata": {},
   "source": [
    "### Resources\n",
    "\n",
    "[Subqueries in Select](https://www.essentialsql.com/get-ready-to-learn-sql-server-20-using-subqueries-in-the-select-statement/)"
   ]
  },
  {
   "cell_type": "markdown",
   "id": "b245d234-771d-42f6-a08c-7648a47b1ec1",
   "metadata": {},
   "source": [
    "[College Tuition Data](https://www.kaggle.com/jessemostipak/college-tuition-diversity-and-pay)"
   ]
  },
  {
   "cell_type": "code",
   "execution_count": null,
   "id": "64180796-000c-40ce-823c-745b499b1942",
   "metadata": {},
   "outputs": [],
   "source": []
  }
 ],
 "metadata": {
  "kernelspec": {
   "display_name": "Python 3",
   "language": "python",
   "name": "python3"
  },
  "language_info": {
   "codemirror_mode": {
    "name": "ipython",
    "version": 3
   },
   "file_extension": ".py",
   "mimetype": "text/x-python",
   "name": "python",
   "nbconvert_exporter": "python",
   "pygments_lexer": "ipython3",
   "version": "3.8.8"
  }
 },
 "nbformat": 4,
 "nbformat_minor": 5
}
