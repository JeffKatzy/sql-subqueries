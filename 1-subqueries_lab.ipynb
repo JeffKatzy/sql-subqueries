{
 "cells": [
  {
   "cell_type": "markdown",
   "id": "4df34709-bf64-4f21-9766-24786a60aba6",
   "metadata": {},
   "source": [
    "# Subqueries Lab"
   ]
  },
  {
   "cell_type": "markdown",
   "id": "e06b7d8a-c8b1-4c60-9530-66858c98accd",
   "metadata": {},
   "source": [
    "### Loading our Data"
   ]
  },
  {
   "cell_type": "code",
   "execution_count": 3,
   "id": "9052125b-97a9-4fd0-a34a-8d308362ccb3",
   "metadata": {},
   "outputs": [
    {
     "name": "stdout",
     "output_type": "stream",
     "text": [
      "diversity_school.csv    salary_potential.csv    tuition_income.csv\n",
      "historical_tuition.csv  tuition_cost.csv\n"
     ]
    }
   ],
   "source": [
    "ls school_prices"
   ]
  },
  {
   "cell_type": "code",
   "execution_count": 72,
   "id": "690edf5f-e1e7-463b-9f7c-cb1397359b53",
   "metadata": {},
   "outputs": [],
   "source": [
    "import pandas as pd\n",
    "salary_potential_df = pd.read_csv('./school_prices/salary_potential.csv', index_col = 0)\n",
    "tuition_cost_df = pd.read_csv('./school_prices/tuition_cost.csv', index_col = 0)\n",
    "diversity_df = pd.read_csv('./school_prices/diversity_school.csv', index_col = 0)\n",
    "tuition_income_df = pd.read_csv('./school_prices/tuition_income.csv', index_col = 0)"
   ]
  },
  {
   "cell_type": "code",
   "execution_count": 17,
   "id": "e9bcfded-e0eb-4a6e-89de-6edc3c51393f",
   "metadata": {},
   "outputs": [
    {
     "data": {
      "text/html": [
       "<div>\n",
       "<style scoped>\n",
       "    .dataframe tbody tr th:only-of-type {\n",
       "        vertical-align: middle;\n",
       "    }\n",
       "\n",
       "    .dataframe tbody tr th {\n",
       "        vertical-align: top;\n",
       "    }\n",
       "\n",
       "    .dataframe thead th {\n",
       "        text-align: right;\n",
       "    }\n",
       "</style>\n",
       "<table border=\"1\" class=\"dataframe\">\n",
       "  <thead>\n",
       "    <tr style=\"text-align: right;\">\n",
       "      <th></th>\n",
       "      <th>name</th>\n",
       "      <th>state</th>\n",
       "      <th>total_price</th>\n",
       "      <th>year</th>\n",
       "      <th>campus</th>\n",
       "      <th>net_cost</th>\n",
       "      <th>income_lvl</th>\n",
       "    </tr>\n",
       "  </thead>\n",
       "  <tbody>\n",
       "    <tr>\n",
       "      <th>0</th>\n",
       "      <td>Piedmont International University</td>\n",
       "      <td>NC</td>\n",
       "      <td>20174</td>\n",
       "      <td>2016</td>\n",
       "      <td>On Campus</td>\n",
       "      <td>11475.0</td>\n",
       "      <td>0 to 30,000</td>\n",
       "    </tr>\n",
       "    <tr>\n",
       "      <th>1</th>\n",
       "      <td>Piedmont International University</td>\n",
       "      <td>NC</td>\n",
       "      <td>20174</td>\n",
       "      <td>2016</td>\n",
       "      <td>On Campus</td>\n",
       "      <td>11451.0</td>\n",
       "      <td>30,001 to 48,000</td>\n",
       "    </tr>\n",
       "  </tbody>\n",
       "</table>\n",
       "</div>"
      ],
      "text/plain": [
       "                                name state  total_price  year     campus  \\\n",
       "0  Piedmont International University    NC        20174  2016  On Campus   \n",
       "1  Piedmont International University    NC        20174  2016  On Campus   \n",
       "\n",
       "   net_cost        income_lvl  \n",
       "0   11475.0       0 to 30,000  \n",
       "1   11451.0  30,001 to 48,000  "
      ]
     },
     "execution_count": 17,
     "metadata": {},
     "output_type": "execute_result"
    }
   ],
   "source": [
    "tuitions_df[:2]"
   ]
  },
  {
   "cell_type": "code",
   "execution_count": 18,
   "id": "e1a6d85b-3ed7-4631-8977-aa7ce3d6a32e",
   "metadata": {},
   "outputs": [],
   "source": [
    "import sqlite3\n",
    "conn = sqlite3.connect('schools.db')"
   ]
  },
  {
   "cell_type": "code",
   "execution_count": 19,
   "id": "1ee464c7-3027-4e83-9dab-66495db30f39",
   "metadata": {},
   "outputs": [],
   "source": [
    "tuition_cost_df.to_sql('tuitions', conn, if_exists = 'replace')\n",
    "salary_potential_df.to_sql('salaries', conn, if_exists = 'replace')\n",
    "diversity_df.to_sql('diversity_categories', conn, if_exists = 'replace')"
   ]
  },
  {
   "cell_type": "code",
   "execution_count": 73,
   "id": "8d553e24-cc22-4ec7-8305-ddea88f9eaaa",
   "metadata": {},
   "outputs": [],
   "source": [
    "tuition_income_df.to_sql('tuition_incomes', conn, if_exists = 'replace')"
   ]
  },
  {
   "cell_type": "markdown",
   "id": "8ece092e-1b76-4fd7-9f8e-fc1af3bec62a",
   "metadata": {},
   "source": [
    "### Exploring our data"
   ]
  },
  {
   "cell_type": "markdown",
   "id": "bfc3b140-dd74-4e82-a35b-1e2a272548fa",
   "metadata": {},
   "source": [
    "We have a couple of new tables, so let's start by exploring them.  Use sql to select the first three rows from the `diversity_categories` table."
   ]
  },
  {
   "cell_type": "code",
   "execution_count": 20,
   "id": "a13ba6a5-5ab0-49db-af2c-94baac73ce69",
   "metadata": {},
   "outputs": [
    {
     "data": {
      "text/html": [
       "<div>\n",
       "<style scoped>\n",
       "    .dataframe tbody tr th:only-of-type {\n",
       "        vertical-align: middle;\n",
       "    }\n",
       "\n",
       "    .dataframe tbody tr th {\n",
       "        vertical-align: top;\n",
       "    }\n",
       "\n",
       "    .dataframe thead th {\n",
       "        text-align: right;\n",
       "    }\n",
       "</style>\n",
       "<table border=\"1\" class=\"dataframe\">\n",
       "  <thead>\n",
       "    <tr style=\"text-align: right;\">\n",
       "      <th></th>\n",
       "      <th>name</th>\n",
       "      <th>total_enrollment</th>\n",
       "      <th>state</th>\n",
       "      <th>category</th>\n",
       "      <th>enrollment</th>\n",
       "    </tr>\n",
       "  </thead>\n",
       "  <tbody>\n",
       "    <tr>\n",
       "      <th>0</th>\n",
       "      <td>University of Phoenix-Arizona</td>\n",
       "      <td>195059</td>\n",
       "      <td>Arizona</td>\n",
       "      <td>Women</td>\n",
       "      <td>134722</td>\n",
       "    </tr>\n",
       "    <tr>\n",
       "      <th>1</th>\n",
       "      <td>University of Phoenix-Arizona</td>\n",
       "      <td>195059</td>\n",
       "      <td>Arizona</td>\n",
       "      <td>American Indian / Alaska Native</td>\n",
       "      <td>876</td>\n",
       "    </tr>\n",
       "    <tr>\n",
       "      <th>2</th>\n",
       "      <td>University of Phoenix-Arizona</td>\n",
       "      <td>195059</td>\n",
       "      <td>Arizona</td>\n",
       "      <td>Asian</td>\n",
       "      <td>1959</td>\n",
       "    </tr>\n",
       "  </tbody>\n",
       "</table>\n",
       "</div>"
      ],
      "text/plain": [
       "                            name  total_enrollment    state  \\\n",
       "0  University of Phoenix-Arizona            195059  Arizona   \n",
       "1  University of Phoenix-Arizona            195059  Arizona   \n",
       "2  University of Phoenix-Arizona            195059  Arizona   \n",
       "\n",
       "                          category  enrollment  \n",
       "0                            Women      134722  \n",
       "1  American Indian / Alaska Native         876  \n",
       "2                            Asian        1959  "
      ]
     },
     "execution_count": 20,
     "metadata": {},
     "output_type": "execute_result"
    }
   ],
   "source": [
    "sql = \"\"\"\n",
    "SELECT * FROM diversity_categories LIMIT 3;\n",
    "\"\"\"\n",
    "\n",
    "pd.read_sql(sql, conn)"
   ]
  },
  {
   "cell_type": "markdown",
   "id": "c04bb6b6-6f6b-4415-b8e9-88e716b4d44e",
   "metadata": {},
   "source": [
    "So we can see that each school has multiple entries, each for a different diversity category.  Let's write query (not a subquery) that selects just the entries where the category is `Women`."
   ]
  },
  {
   "cell_type": "code",
   "execution_count": 22,
   "id": "e2cfdd40-c352-40d6-b02a-401ae414e50c",
   "metadata": {},
   "outputs": [],
   "source": [
    "sql = \"\"\"\n",
    "SELECT * FROM diversity_categories WHERE category = 'Women';\n",
    "\"\"\"\n",
    "\n",
    "women_category_df = pd.read_sql(sql, conn)"
   ]
  },
  {
   "cell_type": "code",
   "execution_count": 23,
   "id": "aea4d6b1-7a45-42be-bd22-21b9be49049b",
   "metadata": {},
   "outputs": [
    {
     "data": {
      "text/html": [
       "<div>\n",
       "<style scoped>\n",
       "    .dataframe tbody tr th:only-of-type {\n",
       "        vertical-align: middle;\n",
       "    }\n",
       "\n",
       "    .dataframe tbody tr th {\n",
       "        vertical-align: top;\n",
       "    }\n",
       "\n",
       "    .dataframe thead th {\n",
       "        text-align: right;\n",
       "    }\n",
       "</style>\n",
       "<table border=\"1\" class=\"dataframe\">\n",
       "  <thead>\n",
       "    <tr style=\"text-align: right;\">\n",
       "      <th></th>\n",
       "      <th>name</th>\n",
       "      <th>total_enrollment</th>\n",
       "      <th>state</th>\n",
       "      <th>category</th>\n",
       "      <th>enrollment</th>\n",
       "    </tr>\n",
       "  </thead>\n",
       "  <tbody>\n",
       "    <tr>\n",
       "      <th>0</th>\n",
       "      <td>University of Phoenix-Arizona</td>\n",
       "      <td>195059</td>\n",
       "      <td>Arizona</td>\n",
       "      <td>Women</td>\n",
       "      <td>134722</td>\n",
       "    </tr>\n",
       "    <tr>\n",
       "      <th>1</th>\n",
       "      <td>Ivy Tech Community College-Central Indiana</td>\n",
       "      <td>91179</td>\n",
       "      <td>Indiana</td>\n",
       "      <td>Women</td>\n",
       "      <td>53476</td>\n",
       "    </tr>\n",
       "  </tbody>\n",
       "</table>\n",
       "</div>"
      ],
      "text/plain": [
       "                                         name  total_enrollment    state  \\\n",
       "0               University of Phoenix-Arizona            195059  Arizona   \n",
       "1  Ivy Tech Community College-Central Indiana             91179  Indiana   \n",
       "\n",
       "  category  enrollment  \n",
       "0    Women      134722  \n",
       "1    Women       53476  "
      ]
     },
     "execution_count": 23,
     "metadata": {},
     "output_type": "execute_result"
    }
   ],
   "source": [
    "women_category_df[:2]"
   ]
  },
  {
   "cell_type": "markdown",
   "id": "a02a3e63-6131-4920-b9cd-04d667e915d4",
   "metadata": {},
   "source": [
    "Then write another select statement that only returns entries where the category is `Women`, but this time return a column for the name of the university -- aliased as college -- the state, and a `percentage_women` column."
   ]
  },
  {
   "cell_type": "markdown",
   "id": "bc8d6980-fa62-462f-8c80-1d893ee487f0",
   "metadata": {},
   "source": [
    "> To avoid getting zero, may need to cast each column as a float, [see reference](https://stackoverflow.com/questions/1666407/sql-server-division-returns-zero)."
   ]
  },
  {
   "cell_type": "code",
   "execution_count": 39,
   "id": "6744b9ef-e71e-46aa-8677-83b412dcefa7",
   "metadata": {},
   "outputs": [],
   "source": [
    "sql = \"\"\"\n",
    "SELECT name as college, state, CAST(enrollment as float) / CAST(total_enrollment as float)\n",
    "as percentage_women \n",
    "FROM diversity_categories WHERE category = 'Women';\n",
    "\"\"\""
   ]
  },
  {
   "cell_type": "code",
   "execution_count": 40,
   "id": "9f465a22-629b-4ff8-abfc-81602a728c79",
   "metadata": {},
   "outputs": [],
   "source": [
    "percentage_women_df = pd.read_sql(sql, conn)"
   ]
  },
  {
   "cell_type": "code",
   "execution_count": 41,
   "id": "15761f0e-94c9-4de5-8135-97fa1cb1e912",
   "metadata": {},
   "outputs": [
    {
     "data": {
      "text/html": [
       "<div>\n",
       "<style scoped>\n",
       "    .dataframe tbody tr th:only-of-type {\n",
       "        vertical-align: middle;\n",
       "    }\n",
       "\n",
       "    .dataframe tbody tr th {\n",
       "        vertical-align: top;\n",
       "    }\n",
       "\n",
       "    .dataframe thead th {\n",
       "        text-align: right;\n",
       "    }\n",
       "</style>\n",
       "<table border=\"1\" class=\"dataframe\">\n",
       "  <thead>\n",
       "    <tr style=\"text-align: right;\">\n",
       "      <th></th>\n",
       "      <th>college</th>\n",
       "      <th>state</th>\n",
       "      <th>percentage_women</th>\n",
       "    </tr>\n",
       "  </thead>\n",
       "  <tbody>\n",
       "    <tr>\n",
       "      <th>0</th>\n",
       "      <td>University of Phoenix-Arizona</td>\n",
       "      <td>Arizona</td>\n",
       "      <td>0.690673</td>\n",
       "    </tr>\n",
       "    <tr>\n",
       "      <th>1</th>\n",
       "      <td>Ivy Tech Community College-Central Indiana</td>\n",
       "      <td>Indiana</td>\n",
       "      <td>0.586495</td>\n",
       "    </tr>\n",
       "  </tbody>\n",
       "</table>\n",
       "</div>"
      ],
      "text/plain": [
       "                                      college    state  percentage_women\n",
       "0               University of Phoenix-Arizona  Arizona          0.690673\n",
       "1  Ivy Tech Community College-Central Indiana  Indiana          0.586495"
      ]
     },
     "execution_count": 41,
     "metadata": {},
     "output_type": "execute_result"
    }
   ],
   "source": [
    "percentage_women_df[:2]"
   ]
  },
  {
   "cell_type": "markdown",
   "id": "167ba9e0-6677-4421-99e6-34234b44841a",
   "metadata": {},
   "source": [
    "Ok, now turn the query above into a subquery, and simply select the `college` and `percentage_women` columns from the derived table (ie. subquery).  Alias the results of the subquery as `gender_splits`."
   ]
  },
  {
   "cell_type": "code",
   "execution_count": 45,
   "id": "8976dc5b-80dd-41ad-aa86-aa5aed816802",
   "metadata": {},
   "outputs": [],
   "source": [
    "sql = \"\"\"\n",
    "SELECT college, percentage_women FROM \n",
    "(SELECT name as college, state, CAST(enrollment as float) / CAST(total_enrollment as float)\n",
    "as percentage_women \n",
    "FROM diversity_categories WHERE category = 'Women') as gender_splits;\n",
    "\"\"\""
   ]
  },
  {
   "cell_type": "code",
   "execution_count": 46,
   "id": "70d3ba59-cf22-4211-b97b-78f206311f8e",
   "metadata": {},
   "outputs": [
    {
     "data": {
      "text/html": [
       "<div>\n",
       "<style scoped>\n",
       "    .dataframe tbody tr th:only-of-type {\n",
       "        vertical-align: middle;\n",
       "    }\n",
       "\n",
       "    .dataframe tbody tr th {\n",
       "        vertical-align: top;\n",
       "    }\n",
       "\n",
       "    .dataframe thead th {\n",
       "        text-align: right;\n",
       "    }\n",
       "</style>\n",
       "<table border=\"1\" class=\"dataframe\">\n",
       "  <thead>\n",
       "    <tr style=\"text-align: right;\">\n",
       "      <th></th>\n",
       "      <th>college</th>\n",
       "      <th>percentage_women</th>\n",
       "    </tr>\n",
       "  </thead>\n",
       "  <tbody>\n",
       "    <tr>\n",
       "      <th>0</th>\n",
       "      <td>University of Phoenix-Arizona</td>\n",
       "      <td>0.690673</td>\n",
       "    </tr>\n",
       "    <tr>\n",
       "      <th>1</th>\n",
       "      <td>Ivy Tech Community College-Central Indiana</td>\n",
       "      <td>0.586495</td>\n",
       "    </tr>\n",
       "  </tbody>\n",
       "</table>\n",
       "</div>"
      ],
      "text/plain": [
       "                                      college  percentage_women\n",
       "0               University of Phoenix-Arizona          0.690673\n",
       "1  Ivy Tech Community College-Central Indiana          0.586495"
      ]
     },
     "execution_count": 46,
     "metadata": {},
     "output_type": "execute_result"
    }
   ],
   "source": [
    "percentage_women_subquery_df = pd.read_sql(sql, conn)\n",
    "\n",
    "percentage_women_subquery_df[:2]"
   ]
  },
  {
   "cell_type": "markdown",
   "id": "513d1514-dbf1-48ee-bb09-0ede43f59a34",
   "metadata": {},
   "source": [
    "### Joining a Table"
   ]
  },
  {
   "cell_type": "markdown",
   "id": "2ee2a0af-90ce-4f0c-abfc-d6bee0db60c3",
   "metadata": {},
   "source": [
    "Now let's say that we want to join the results above with income information in the salaries table."
   ]
  },
  {
   "cell_type": "code",
   "execution_count": 48,
   "id": "444fb85d-d494-4abd-a868-822390c53b34",
   "metadata": {},
   "outputs": [
    {
     "data": {
      "text/html": [
       "<div>\n",
       "<style scoped>\n",
       "    .dataframe tbody tr th:only-of-type {\n",
       "        vertical-align: middle;\n",
       "    }\n",
       "\n",
       "    .dataframe tbody tr th {\n",
       "        vertical-align: top;\n",
       "    }\n",
       "\n",
       "    .dataframe thead th {\n",
       "        text-align: right;\n",
       "    }\n",
       "</style>\n",
       "<table border=\"1\" class=\"dataframe\">\n",
       "  <thead>\n",
       "    <tr style=\"text-align: right;\">\n",
       "      <th></th>\n",
       "      <th>rank</th>\n",
       "      <th>name</th>\n",
       "      <th>state_name</th>\n",
       "      <th>early_career_pay</th>\n",
       "      <th>mid_career_pay</th>\n",
       "      <th>make_world_better_percent</th>\n",
       "      <th>stem_percent</th>\n",
       "    </tr>\n",
       "  </thead>\n",
       "  <tbody>\n",
       "    <tr>\n",
       "      <th>0</th>\n",
       "      <td>1</td>\n",
       "      <td>Auburn University</td>\n",
       "      <td>Alabama</td>\n",
       "      <td>54400</td>\n",
       "      <td>104500</td>\n",
       "      <td>51.0</td>\n",
       "      <td>31</td>\n",
       "    </tr>\n",
       "    <tr>\n",
       "      <th>1</th>\n",
       "      <td>2</td>\n",
       "      <td>University of Alabama in Huntsville</td>\n",
       "      <td>Alabama</td>\n",
       "      <td>57500</td>\n",
       "      <td>103900</td>\n",
       "      <td>59.0</td>\n",
       "      <td>45</td>\n",
       "    </tr>\n",
       "  </tbody>\n",
       "</table>\n",
       "</div>"
      ],
      "text/plain": [
       "   rank                                 name state_name  early_career_pay  \\\n",
       "0     1                    Auburn University    Alabama             54400   \n",
       "1     2  University of Alabama in Huntsville    Alabama             57500   \n",
       "\n",
       "   mid_career_pay  make_world_better_percent  stem_percent  \n",
       "0          104500                       51.0            31  \n",
       "1          103900                       59.0            45  "
      ]
     },
     "execution_count": 48,
     "metadata": {},
     "output_type": "execute_result"
    }
   ],
   "source": [
    "pd.read_sql(\"SELECT * FROM salaries LIMIT 2;\", conn)"
   ]
  },
  {
   "cell_type": "markdown",
   "id": "6efd55b0-5f5a-4fab-8349-ba808ed1e207",
   "metadata": {},
   "source": [
    "Ok, so we can can begin by placing our entire previous query into a subquery. "
   ]
  },
  {
   "cell_type": "code",
   "execution_count": 50,
   "id": "e0cc7320-3e20-4c38-9e1d-396edb68aca2",
   "metadata": {},
   "outputs": [
    {
     "data": {
      "text/html": [
       "<div>\n",
       "<style scoped>\n",
       "    .dataframe tbody tr th:only-of-type {\n",
       "        vertical-align: middle;\n",
       "    }\n",
       "\n",
       "    .dataframe tbody tr th {\n",
       "        vertical-align: top;\n",
       "    }\n",
       "\n",
       "    .dataframe thead th {\n",
       "        text-align: right;\n",
       "    }\n",
       "</style>\n",
       "<table border=\"1\" class=\"dataframe\">\n",
       "  <thead>\n",
       "    <tr style=\"text-align: right;\">\n",
       "      <th></th>\n",
       "      <th>college</th>\n",
       "      <th>percentage_women</th>\n",
       "    </tr>\n",
       "  </thead>\n",
       "  <tbody>\n",
       "    <tr>\n",
       "      <th>0</th>\n",
       "      <td>University of Phoenix-Arizona</td>\n",
       "      <td>0.690673</td>\n",
       "    </tr>\n",
       "    <tr>\n",
       "      <th>1</th>\n",
       "      <td>Ivy Tech Community College-Central Indiana</td>\n",
       "      <td>0.586495</td>\n",
       "    </tr>\n",
       "  </tbody>\n",
       "</table>\n",
       "</div>"
      ],
      "text/plain": [
       "                                      college  percentage_women\n",
       "0               University of Phoenix-Arizona          0.690673\n",
       "1  Ivy Tech Community College-Central Indiana          0.586495"
      ]
     },
     "execution_count": 50,
     "metadata": {},
     "output_type": "execute_result"
    }
   ],
   "source": [
    "sql = \"\"\"\n",
    "SELECT * FROM \n",
    "(SELECT name as college,  CAST(enrollment as float) / CAST(total_enrollment as float)\n",
    "as percentage_women \n",
    "FROM diversity_categories WHERE category = 'Women') as gender_splits;\n",
    "\"\"\"\n",
    "\n",
    "subquery_df = pd.read_sql(sql, conn)\n",
    "subquery_df[:2]"
   ]
  },
  {
   "cell_type": "markdown",
   "id": "0609b14b-0e3e-44df-99b7-224ef5182a83",
   "metadata": {},
   "source": [
    "And then because we can treat the subquery as a table `gender_splits` with columns of `college` and `percentage_women`, we can simply join the `salaries` table just like we would any other table."
   ]
  },
  {
   "cell_type": "code",
   "execution_count": 54,
   "id": "47a75abb-eab1-4a9c-99e3-d48dd0596790",
   "metadata": {},
   "outputs": [
    {
     "data": {
      "text/html": [
       "<div>\n",
       "<style scoped>\n",
       "    .dataframe tbody tr th:only-of-type {\n",
       "        vertical-align: middle;\n",
       "    }\n",
       "\n",
       "    .dataframe tbody tr th {\n",
       "        vertical-align: top;\n",
       "    }\n",
       "\n",
       "    .dataframe thead th {\n",
       "        text-align: right;\n",
       "    }\n",
       "</style>\n",
       "<table border=\"1\" class=\"dataframe\">\n",
       "  <thead>\n",
       "    <tr style=\"text-align: right;\">\n",
       "      <th></th>\n",
       "      <th>college</th>\n",
       "      <th>percentage_women</th>\n",
       "      <th>early_career_pay</th>\n",
       "      <th>mid_career_pay</th>\n",
       "    </tr>\n",
       "  </thead>\n",
       "  <tbody>\n",
       "    <tr>\n",
       "      <th>0</th>\n",
       "      <td>Auburn University</td>\n",
       "      <td>0.493902</td>\n",
       "      <td>54400</td>\n",
       "      <td>104500</td>\n",
       "    </tr>\n",
       "    <tr>\n",
       "      <th>1</th>\n",
       "      <td>Tuskegee University</td>\n",
       "      <td>0.597809</td>\n",
       "      <td>54500</td>\n",
       "      <td>93500</td>\n",
       "    </tr>\n",
       "  </tbody>\n",
       "</table>\n",
       "</div>"
      ],
      "text/plain": [
       "               college  percentage_women  early_career_pay  mid_career_pay\n",
       "0    Auburn University          0.493902             54400          104500\n",
       "1  Tuskegee University          0.597809             54500           93500"
      ]
     },
     "execution_count": 54,
     "metadata": {},
     "output_type": "execute_result"
    }
   ],
   "source": [
    "sql = \"\"\"\n",
    "SELECT college, percentage_women, early_career_pay, mid_career_pay FROM \n",
    "(SELECT name as college,  CAST(enrollment as float) / CAST(total_enrollment as float)\n",
    "as percentage_women \n",
    "FROM diversity_categories WHERE category = 'Women') as gender_splits \n",
    "INNER JOIN salaries ON salaries.name = gender_splits.college;\n",
    "\"\"\"\n",
    "\n",
    "joined_subquery_df = pd.read_sql(sql, conn)\n",
    "joined_subquery_df[:2]"
   ]
  },
  {
   "cell_type": "markdown",
   "id": "02f2d1c2-5c0a-4843-856d-54cdf6accf36",
   "metadata": {},
   "source": [
    "And from here, let's say find those schools where `mid_career_pay` is greater than 100,000 and sort by `percentage_women`."
   ]
  },
  {
   "cell_type": "code",
   "execution_count": 58,
   "id": "e6788db4-ee49-4aff-b898-6ed99e5a0b6d",
   "metadata": {},
   "outputs": [
    {
     "data": {
      "text/html": [
       "<div>\n",
       "<style scoped>\n",
       "    .dataframe tbody tr th:only-of-type {\n",
       "        vertical-align: middle;\n",
       "    }\n",
       "\n",
       "    .dataframe tbody tr th {\n",
       "        vertical-align: top;\n",
       "    }\n",
       "\n",
       "    .dataframe thead th {\n",
       "        text-align: right;\n",
       "    }\n",
       "</style>\n",
       "<table border=\"1\" class=\"dataframe\">\n",
       "  <thead>\n",
       "    <tr style=\"text-align: right;\">\n",
       "      <th></th>\n",
       "      <th>college</th>\n",
       "      <th>percentage_women</th>\n",
       "      <th>early_career_pay</th>\n",
       "      <th>mid_career_pay</th>\n",
       "    </tr>\n",
       "  </thead>\n",
       "  <tbody>\n",
       "    <tr>\n",
       "      <th>0</th>\n",
       "      <td>Barnard College</td>\n",
       "      <td>0.998057</td>\n",
       "      <td>59200</td>\n",
       "      <td>109800</td>\n",
       "    </tr>\n",
       "    <tr>\n",
       "      <th>1</th>\n",
       "      <td>Wellesley College</td>\n",
       "      <td>0.973741</td>\n",
       "      <td>58900</td>\n",
       "      <td>106200</td>\n",
       "    </tr>\n",
       "    <tr>\n",
       "      <th>2</th>\n",
       "      <td>Samuel Merritt University</td>\n",
       "      <td>0.741139</td>\n",
       "      <td>91200</td>\n",
       "      <td>154100</td>\n",
       "    </tr>\n",
       "    <tr>\n",
       "      <th>3</th>\n",
       "      <td>Rush University</td>\n",
       "      <td>0.731380</td>\n",
       "      <td>63500</td>\n",
       "      <td>107600</td>\n",
       "    </tr>\n",
       "    <tr>\n",
       "      <th>4</th>\n",
       "      <td>Texas Tech University Health Sciences Center</td>\n",
       "      <td>0.684648</td>\n",
       "      <td>61300</td>\n",
       "      <td>104900</td>\n",
       "    </tr>\n",
       "  </tbody>\n",
       "</table>\n",
       "</div>"
      ],
      "text/plain": [
       "                                        college  percentage_women  \\\n",
       "0                               Barnard College          0.998057   \n",
       "1                             Wellesley College          0.973741   \n",
       "2                     Samuel Merritt University          0.741139   \n",
       "3                               Rush University          0.731380   \n",
       "4  Texas Tech University Health Sciences Center          0.684648   \n",
       "\n",
       "   early_career_pay  mid_career_pay  \n",
       "0             59200          109800  \n",
       "1             58900          106200  \n",
       "2             91200          154100  \n",
       "3             63500          107600  \n",
       "4             61300          104900  "
      ]
     },
     "execution_count": 58,
     "metadata": {},
     "output_type": "execute_result"
    }
   ],
   "source": [
    "sql = \"\"\"\n",
    "SELECT college, percentage_women, early_career_pay, mid_career_pay FROM \n",
    "(SELECT name as college,  CAST(enrollment as float) / CAST(total_enrollment as float)\n",
    "as percentage_women \n",
    "FROM diversity_categories WHERE category = 'Women') as gender_splits \n",
    "INNER JOIN salaries ON salaries.name = gender_splits.college WHERE mid_career_pay > 100000 ORDER BY percentage_women DESC;\n",
    "\"\"\"\n",
    "\n",
    "joined_subquery_df = pd.read_sql(sql, conn)\n",
    "joined_subquery_df[:5]"
   ]
  },
  {
   "cell_type": "markdown",
   "id": "9f9713bb-06fa-4105-837d-871de3b81481",
   "metadata": {},
   "source": [
    "### Your Turn"
   ]
  },
  {
   "cell_type": "markdown",
   "id": "b41720dc-9fff-4850-ba18-f09afe4603cb",
   "metadata": {},
   "source": [
    "Ok, now it's your turn to use a subquery in a join.  We'll start you off with the subquery from before."
   ]
  },
  {
   "cell_type": "code",
   "execution_count": 62,
   "id": "df6b62b8-5332-4b8b-b69f-c2d2b8564eac",
   "metadata": {},
   "outputs": [
    {
     "data": {
      "text/html": [
       "<div>\n",
       "<style scoped>\n",
       "    .dataframe tbody tr th:only-of-type {\n",
       "        vertical-align: middle;\n",
       "    }\n",
       "\n",
       "    .dataframe tbody tr th {\n",
       "        vertical-align: top;\n",
       "    }\n",
       "\n",
       "    .dataframe thead th {\n",
       "        text-align: right;\n",
       "    }\n",
       "</style>\n",
       "<table border=\"1\" class=\"dataframe\">\n",
       "  <thead>\n",
       "    <tr style=\"text-align: right;\">\n",
       "      <th></th>\n",
       "      <th>college</th>\n",
       "      <th>percentage_women</th>\n",
       "    </tr>\n",
       "  </thead>\n",
       "  <tbody>\n",
       "    <tr>\n",
       "      <th>0</th>\n",
       "      <td>University of Phoenix-Arizona</td>\n",
       "      <td>0.690673</td>\n",
       "    </tr>\n",
       "    <tr>\n",
       "      <th>1</th>\n",
       "      <td>Ivy Tech Community College-Central Indiana</td>\n",
       "      <td>0.586495</td>\n",
       "    </tr>\n",
       "  </tbody>\n",
       "</table>\n",
       "</div>"
      ],
      "text/plain": [
       "                                      college  percentage_women\n",
       "0               University of Phoenix-Arizona          0.690673\n",
       "1  Ivy Tech Community College-Central Indiana          0.586495"
      ]
     },
     "execution_count": 62,
     "metadata": {},
     "output_type": "execute_result"
    }
   ],
   "source": [
    "sql = \"\"\"\n",
    "SELECT * FROM \n",
    "(SELECT name as college,  CAST(enrollment as float) / CAST(total_enrollment as float)\n",
    "as percentage_women \n",
    "FROM diversity_categories WHERE category = 'Women') as gender_splits ;\n",
    "\"\"\"\n",
    "\n",
    "subquery_df = pd.read_sql(sql, conn)\n",
    "subquery_df[:2]"
   ]
  },
  {
   "cell_type": "code",
   "execution_count": 65,
   "id": "28f8f504-cbf1-4682-a16e-7ca3315097aa",
   "metadata": {},
   "outputs": [
    {
     "data": {
      "text/html": [
       "<div>\n",
       "<style scoped>\n",
       "    .dataframe tbody tr th:only-of-type {\n",
       "        vertical-align: middle;\n",
       "    }\n",
       "\n",
       "    .dataframe tbody tr th {\n",
       "        vertical-align: top;\n",
       "    }\n",
       "\n",
       "    .dataframe thead th {\n",
       "        text-align: right;\n",
       "    }\n",
       "</style>\n",
       "<table border=\"1\" class=\"dataframe\">\n",
       "  <thead>\n",
       "    <tr style=\"text-align: right;\">\n",
       "      <th></th>\n",
       "      <th>name</th>\n",
       "      <th>state</th>\n",
       "      <th>state_code</th>\n",
       "      <th>type</th>\n",
       "      <th>degree_length</th>\n",
       "      <th>room_and_board</th>\n",
       "      <th>in_state_tuition</th>\n",
       "      <th>in_state_total</th>\n",
       "      <th>out_of_state_tuition</th>\n",
       "      <th>out_of_state_total</th>\n",
       "    </tr>\n",
       "  </thead>\n",
       "  <tbody>\n",
       "    <tr>\n",
       "      <th>0</th>\n",
       "      <td>Aaniiih Nakoda College</td>\n",
       "      <td>Montana</td>\n",
       "      <td>MT</td>\n",
       "      <td>Public</td>\n",
       "      <td>2 Year</td>\n",
       "      <td>NaN</td>\n",
       "      <td>2380</td>\n",
       "      <td>2380</td>\n",
       "      <td>2380</td>\n",
       "      <td>2380</td>\n",
       "    </tr>\n",
       "    <tr>\n",
       "      <th>1</th>\n",
       "      <td>Abilene Christian University</td>\n",
       "      <td>Texas</td>\n",
       "      <td>TX</td>\n",
       "      <td>Private</td>\n",
       "      <td>4 Year</td>\n",
       "      <td>10350.0</td>\n",
       "      <td>34850</td>\n",
       "      <td>45200</td>\n",
       "      <td>34850</td>\n",
       "      <td>45200</td>\n",
       "    </tr>\n",
       "  </tbody>\n",
       "</table>\n",
       "</div>"
      ],
      "text/plain": [
       "                           name    state state_code     type degree_length  \\\n",
       "0        Aaniiih Nakoda College  Montana         MT   Public        2 Year   \n",
       "1  Abilene Christian University    Texas         TX  Private        4 Year   \n",
       "\n",
       "   room_and_board  in_state_tuition  in_state_total  out_of_state_tuition  \\\n",
       "0             NaN              2380            2380                  2380   \n",
       "1         10350.0             34850           45200                 34850   \n",
       "\n",
       "   out_of_state_total  \n",
       "0                2380  \n",
       "1               45200  "
      ]
     },
     "execution_count": 65,
     "metadata": {},
     "output_type": "execute_result"
    }
   ],
   "source": [
    "tuitions_df = pd.read_sql(\"SELECT * FROM tuitions LIMIT 5;\", conn)\n",
    "tuitions_df[:2]"
   ]
  },
  {
   "cell_type": "markdown",
   "id": "5d2f39ba-3636-4f14-b1da-0c5d46903526",
   "metadata": {},
   "source": [
    "This time use JOIN to return the out_of_state_tuition cost, aliased as tution along with the colleg and `percentage_women` columns and sort by the name of the college. "
   ]
  },
  {
   "cell_type": "code",
   "execution_count": 71,
   "id": "16191d31-d432-405f-a43d-168e23c35a56",
   "metadata": {},
   "outputs": [
    {
     "data": {
      "text/html": [
       "<div>\n",
       "<style scoped>\n",
       "    .dataframe tbody tr th:only-of-type {\n",
       "        vertical-align: middle;\n",
       "    }\n",
       "\n",
       "    .dataframe tbody tr th {\n",
       "        vertical-align: top;\n",
       "    }\n",
       "\n",
       "    .dataframe thead th {\n",
       "        text-align: right;\n",
       "    }\n",
       "</style>\n",
       "<table border=\"1\" class=\"dataframe\">\n",
       "  <thead>\n",
       "    <tr style=\"text-align: right;\">\n",
       "      <th></th>\n",
       "      <th>college</th>\n",
       "      <th>percentage_women</th>\n",
       "      <th>tuition</th>\n",
       "    </tr>\n",
       "  </thead>\n",
       "  <tbody>\n",
       "    <tr>\n",
       "      <th>0</th>\n",
       "      <td>Aaniiih Nakoda College</td>\n",
       "      <td>0.611684</td>\n",
       "      <td>2380</td>\n",
       "    </tr>\n",
       "    <tr>\n",
       "      <th>1</th>\n",
       "      <td>Abilene Christian University</td>\n",
       "      <td>0.578721</td>\n",
       "      <td>34850</td>\n",
       "    </tr>\n",
       "  </tbody>\n",
       "</table>\n",
       "</div>"
      ],
      "text/plain": [
       "                        college  percentage_women  tuition\n",
       "0        Aaniiih Nakoda College          0.611684     2380\n",
       "1  Abilene Christian University          0.578721    34850"
      ]
     },
     "execution_count": 71,
     "metadata": {},
     "output_type": "execute_result"
    }
   ],
   "source": [
    "sql = \"\"\"\n",
    "SELECT college, percentage_women, out_of_state_tuition as tuition FROM \n",
    "(SELECT name as college, CAST(enrollment as float) / CAST(total_enrollment as float)\n",
    "as percentage_women \n",
    "FROM diversity_categories WHERE category = 'Women') as gender_splits \n",
    "JOIN tuitions ON tuitions.name = gender_splits.college ORDER BY college ASC;\n",
    "\"\"\"\n",
    "\n",
    "subquery_df = pd.read_sql(sql, conn)\n",
    "subquery_df[:2]"
   ]
  },
  {
   "cell_type": "markdown",
   "id": "fcbdd4ac-a4b8-467e-840f-7e58853ad77b",
   "metadata": {},
   "source": [
    "Finally, let's load up some data from the `tuition_incomes` table."
   ]
  },
  {
   "cell_type": "code",
   "execution_count": 74,
   "id": "ff7efec6-73c1-4433-81e4-b39fbb93cf4f",
   "metadata": {},
   "outputs": [
    {
     "data": {
      "text/html": [
       "<div>\n",
       "<style scoped>\n",
       "    .dataframe tbody tr th:only-of-type {\n",
       "        vertical-align: middle;\n",
       "    }\n",
       "\n",
       "    .dataframe tbody tr th {\n",
       "        vertical-align: top;\n",
       "    }\n",
       "\n",
       "    .dataframe thead th {\n",
       "        text-align: right;\n",
       "    }\n",
       "</style>\n",
       "<table border=\"1\" class=\"dataframe\">\n",
       "  <thead>\n",
       "    <tr style=\"text-align: right;\">\n",
       "      <th></th>\n",
       "      <th>name</th>\n",
       "      <th>state</th>\n",
       "      <th>total_price</th>\n",
       "      <th>year</th>\n",
       "      <th>campus</th>\n",
       "      <th>net_cost</th>\n",
       "      <th>income_lvl</th>\n",
       "    </tr>\n",
       "  </thead>\n",
       "  <tbody>\n",
       "    <tr>\n",
       "      <th>0</th>\n",
       "      <td>Piedmont International University</td>\n",
       "      <td>NC</td>\n",
       "      <td>20174</td>\n",
       "      <td>2016</td>\n",
       "      <td>On Campus</td>\n",
       "      <td>11475.0</td>\n",
       "      <td>0 to 30,000</td>\n",
       "    </tr>\n",
       "    <tr>\n",
       "      <th>1</th>\n",
       "      <td>Piedmont International University</td>\n",
       "      <td>NC</td>\n",
       "      <td>20174</td>\n",
       "      <td>2016</td>\n",
       "      <td>On Campus</td>\n",
       "      <td>11451.0</td>\n",
       "      <td>30,001 to 48,000</td>\n",
       "    </tr>\n",
       "  </tbody>\n",
       "</table>\n",
       "</div>"
      ],
      "text/plain": [
       "                                name state  total_price  year     campus  \\\n",
       "0  Piedmont International University    NC        20174  2016  On Campus   \n",
       "1  Piedmont International University    NC        20174  2016  On Campus   \n",
       "\n",
       "   net_cost        income_lvl  \n",
       "0   11475.0       0 to 30,000  \n",
       "1   11451.0  30,001 to 48,000  "
      ]
     },
     "execution_count": 74,
     "metadata": {},
     "output_type": "execute_result"
    }
   ],
   "source": [
    "sql = \"\"\"\n",
    "SELECT * FROM tuition_incomes;\n",
    "\"\"\"\n",
    "tuition_incomes_df = pd.read_sql(sql, conn)\n",
    "tuition_incomes_df[:2]"
   ]
  },
  {
   "cell_type": "code",
   "execution_count": null,
   "id": "dec88279-546e-405e-ab6d-9fdd4e0162e8",
   "metadata": {},
   "outputs": [],
   "source": []
  }
 ],
 "metadata": {
  "kernelspec": {
   "display_name": "Python 3",
   "language": "python",
   "name": "python3"
  },
  "language_info": {
   "codemirror_mode": {
    "name": "ipython",
    "version": 3
   },
   "file_extension": ".py",
   "mimetype": "text/x-python",
   "name": "python",
   "nbconvert_exporter": "python",
   "pygments_lexer": "ipython3",
   "version": "3.8.8"
  }
 },
 "nbformat": 4,
 "nbformat_minor": 5
}
