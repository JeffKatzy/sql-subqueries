{
 "cells": [
  {
   "cell_type": "markdown",
   "id": "0f700ac2-5343-4450-82a8-2a9b44fd33e3",
   "metadata": {},
   "source": [
    "# Subqueries in Select Reading"
   ]
  },
  {
   "cell_type": "markdown",
   "id": "e28ba608-c1eb-4b43-82a2-4413f97dd54c",
   "metadata": {},
   "source": [
    "### Introduction"
   ]
  },
  {
   "cell_type": "markdown",
   "id": "ca5cf16e-1a65-49be-b534-62a6da61c58d",
   "metadata": {},
   "source": [
    "### Loading our Data"
   ]
  },
  {
   "cell_type": "code",
   "execution_count": 50,
   "id": "f867c755-c286-4642-9e33-18b8d5b534db",
   "metadata": {},
   "outputs": [],
   "source": [
    "telecom_df = pd.read_csv('./telecom_companies.csv')"
   ]
  },
  {
   "cell_type": "code",
   "execution_count": 53,
   "id": "6bf0313f-71bf-4f87-b9a3-0239fcd159de",
   "metadata": {},
   "outputs": [],
   "source": [
    "import sqlite3\n",
    "conn = sqlite3.connect('telecom.db')"
   ]
  },
  {
   "cell_type": "code",
   "execution_count": 54,
   "id": "9acc56fa-1e53-4d64-b781-ba6bbe2e9de3",
   "metadata": {},
   "outputs": [],
   "source": [
    "companies_df.to_sql('companies', conn)"
   ]
  },
  {
   "cell_type": "code",
   "execution_count": 55,
   "id": "4983e12d-368b-4bdb-aef3-ee8da8863d57",
   "metadata": {},
   "outputs": [],
   "source": [
    "cursor = conn.cursor()"
   ]
  },
  {
   "cell_type": "code",
   "execution_count": 60,
   "id": "589f9119-c982-48cc-a14d-e17b5abaac40",
   "metadata": {},
   "outputs": [
    {
     "data": {
      "text/html": [
       "<div>\n",
       "<style scoped>\n",
       "    .dataframe tbody tr th:only-of-type {\n",
       "        vertical-align: middle;\n",
       "    }\n",
       "\n",
       "    .dataframe tbody tr th {\n",
       "        vertical-align: top;\n",
       "    }\n",
       "\n",
       "    .dataframe thead th {\n",
       "        text-align: right;\n",
       "    }\n",
       "</style>\n",
       "<table border=\"1\" class=\"dataframe\">\n",
       "  <thead>\n",
       "    <tr style=\"text-align: right;\">\n",
       "      <th></th>\n",
       "      <th>index</th>\n",
       "      <th>company_name</th>\n",
       "      <th>market_cap</th>\n",
       "      <th>stock_price</th>\n",
       "    </tr>\n",
       "  </thead>\n",
       "  <tbody>\n",
       "    <tr>\n",
       "      <th>0</th>\n",
       "      <td>0</td>\n",
       "      <td>Comcast</td>\n",
       "      <td>276.76</td>\n",
       "      <td>60.30</td>\n",
       "    </tr>\n",
       "    <tr>\n",
       "      <th>1</th>\n",
       "      <td>1</td>\n",
       "      <td>Verizon</td>\n",
       "      <td>226.96</td>\n",
       "      <td>54.82</td>\n",
       "    </tr>\n",
       "  </tbody>\n",
       "</table>\n",
       "</div>"
      ],
      "text/plain": [
       "   index company_name  market_cap  stock_price\n",
       "0      0      Comcast      276.76        60.30\n",
       "1      1      Verizon      226.96        54.82"
      ]
     },
     "execution_count": 60,
     "metadata": {},
     "output_type": "execute_result"
    }
   ],
   "source": [
    "pd.read_sql('SELECT * FROM companies LIMIT 2;',conn)"
   ]
  },
  {
   "cell_type": "markdown",
   "id": "eb2f3614-58bd-4a2d-b6bb-52042a1591d4",
   "metadata": {},
   "source": [
    "### Comparing vs Total"
   ]
  },
  {
   "cell_type": "markdown",
   "id": "2274e922-2c51-474a-a8b6-6039f9e16817",
   "metadata": {},
   "source": [
    "Now let's say that we want to add a new column that indicates how much each company deviates from the average market capitalization.  As a first step, let's add a new column called `avg_market_cap` that simply indicates the average market cap across the entire dataset.  \n",
    "\n",
    "So far the main way we know how to calculate the average marget cap is like so."
   ]
  },
  {
   "cell_type": "code",
   "execution_count": 62,
   "id": "20538789-e92d-4c14-90ba-ad0a77be682a",
   "metadata": {},
   "outputs": [
    {
     "data": {
      "text/html": [
       "<div>\n",
       "<style scoped>\n",
       "    .dataframe tbody tr th:only-of-type {\n",
       "        vertical-align: middle;\n",
       "    }\n",
       "\n",
       "    .dataframe tbody tr th {\n",
       "        vertical-align: top;\n",
       "    }\n",
       "\n",
       "    .dataframe thead th {\n",
       "        text-align: right;\n",
       "    }\n",
       "</style>\n",
       "<table border=\"1\" class=\"dataframe\">\n",
       "  <thead>\n",
       "    <tr style=\"text-align: right;\">\n",
       "      <th></th>\n",
       "      <th>avg_market_cap</th>\n",
       "    </tr>\n",
       "  </thead>\n",
       "  <tbody>\n",
       "    <tr>\n",
       "      <th>0</th>\n",
       "      <td>27.3403</td>\n",
       "    </tr>\n",
       "  </tbody>\n",
       "</table>\n",
       "</div>"
      ],
      "text/plain": [
       "   avg_market_cap\n",
       "0         27.3403"
      ]
     },
     "execution_count": 62,
     "metadata": {},
     "output_type": "execute_result"
    }
   ],
   "source": [
    "pd.read_sql('SELECT AVG(market_cap) as avg_market_cap FROM companies;',conn)"
   ]
  },
  {
   "cell_type": "markdown",
   "id": "829768f3-b8e6-432d-a2e7-4ceb8845e552",
   "metadata": {},
   "source": [
    "But this of course will does not return the rest of our columns.  And if we attempt to include these, we will still just get back a single row."
   ]
  },
  {
   "cell_type": "code",
   "execution_count": 65,
   "id": "488910c2-e37e-46fe-ab00-a9cb4a06fd2a",
   "metadata": {},
   "outputs": [
    {
     "data": {
      "text/html": [
       "<div>\n",
       "<style scoped>\n",
       "    .dataframe tbody tr th:only-of-type {\n",
       "        vertical-align: middle;\n",
       "    }\n",
       "\n",
       "    .dataframe tbody tr th {\n",
       "        vertical-align: top;\n",
       "    }\n",
       "\n",
       "    .dataframe thead th {\n",
       "        text-align: right;\n",
       "    }\n",
       "</style>\n",
       "<table border=\"1\" class=\"dataframe\">\n",
       "  <thead>\n",
       "    <tr style=\"text-align: right;\">\n",
       "      <th></th>\n",
       "      <th>market_cap</th>\n",
       "      <th>avg_market_cap</th>\n",
       "    </tr>\n",
       "  </thead>\n",
       "  <tbody>\n",
       "    <tr>\n",
       "      <th>0</th>\n",
       "      <td>276.76</td>\n",
       "      <td>27.3403</td>\n",
       "    </tr>\n",
       "  </tbody>\n",
       "</table>\n",
       "</div>"
      ],
      "text/plain": [
       "   market_cap  avg_market_cap\n",
       "0      276.76         27.3403"
      ]
     },
     "execution_count": 65,
     "metadata": {},
     "output_type": "execute_result"
    }
   ],
   "source": [
    "pd.read_sql(\"\"\"SELECT market_cap, \n",
    "            AVG(market_cap) as avg_market_cap FROM companies;\"\"\" ,conn)"
   ]
  },
  {
   "cell_type": "markdown",
   "id": "185987e2-236f-43cd-b361-036c83c41dcd",
   "metadata": {},
   "source": [
    "Not exactly what we want.  Ok, so to solve this, we can use a subquery.  Let's see this and then we'll break it down."
   ]
  },
  {
   "cell_type": "code",
   "execution_count": 76,
   "id": "80340aa5-a1ba-409f-909e-f444debbcbdd",
   "metadata": {},
   "outputs": [
    {
     "data": {
      "text/html": [
       "<div>\n",
       "<style scoped>\n",
       "    .dataframe tbody tr th:only-of-type {\n",
       "        vertical-align: middle;\n",
       "    }\n",
       "\n",
       "    .dataframe tbody tr th {\n",
       "        vertical-align: top;\n",
       "    }\n",
       "\n",
       "    .dataframe thead th {\n",
       "        text-align: right;\n",
       "    }\n",
       "</style>\n",
       "<table border=\"1\" class=\"dataframe\">\n",
       "  <thead>\n",
       "    <tr style=\"text-align: right;\">\n",
       "      <th></th>\n",
       "      <th>company_name</th>\n",
       "      <th>market_cap</th>\n",
       "      <th>avg_market_cap</th>\n",
       "    </tr>\n",
       "  </thead>\n",
       "  <tbody>\n",
       "    <tr>\n",
       "      <th>0</th>\n",
       "      <td>Comcast</td>\n",
       "      <td>276.76</td>\n",
       "      <td>27.3403</td>\n",
       "    </tr>\n",
       "    <tr>\n",
       "      <th>1</th>\n",
       "      <td>Verizon</td>\n",
       "      <td>226.96</td>\n",
       "      <td>27.3403</td>\n",
       "    </tr>\n",
       "    <tr>\n",
       "      <th>2</th>\n",
       "      <td>AT&amp;T</td>\n",
       "      <td>195.77</td>\n",
       "      <td>27.3403</td>\n",
       "    </tr>\n",
       "  </tbody>\n",
       "</table>\n",
       "</div>"
      ],
      "text/plain": [
       "  company_name  market_cap  avg_market_cap\n",
       "0      Comcast      276.76         27.3403\n",
       "1      Verizon      226.96         27.3403\n",
       "2         AT&T      195.77         27.3403"
      ]
     },
     "execution_count": 76,
     "metadata": {},
     "output_type": "execute_result"
    }
   ],
   "source": [
    "sql = \"\"\"SELECT company_name, market_cap, \n",
    "(SELECT AVG(market_cap) as avg_market_cap FROM companies)\n",
    "as avg_market_cap FROM companies\"\"\"\n",
    "\n",
    "pd.read_sql(sql, conn)[:3]"
   ]
  },
  {
   "cell_type": "markdown",
   "id": "0a7e4baf-45a9-4422-9f3c-6b9a6e8ee84c",
   "metadata": {},
   "source": [
    "And this is what the query looks like with some nice sql highlighting."
   ]
  },
  {
   "cell_type": "markdown",
   "id": "18d75697-e370-4ab2-87c6-da62cac88b0b",
   "metadata": {},
   "source": [
    "```sql \n",
    "SELECT company_name, market_cap,\n",
    "\n",
    "(SELECT AVG(market_cap) as avg_market_cap FROM companies) as avg_market_cap\n",
    "\n",
    "FROM companies\n",
    "```"
   ]
  },
  {
   "cell_type": "markdown",
   "id": "1f7704e8-11d4-42c5-b9fb-77d04ea0bb64",
   "metadata": {},
   "source": [
    "So notice that without the subquery, we have a normal sql statement\n",
    "\n",
    "```sql\n",
    "SELECT company_name, market_cap FROM companies\n",
    "```"
   ]
  },
  {
   "cell_type": "markdown",
   "id": "66bbd526-61c6-453d-9945-2b0216ff8026",
   "metadata": {},
   "source": [
    "And then to add in our column from the subquery, we again use a normal select statement but wrap it in parentheses, and then specify how to reference it with the `as` keyword.\n",
    "```sql\n",
    "(SELECT AVG(market_cap) as avg_market_cap FROM companies) as avg_market_cap\n",
    "```"
   ]
  },
  {
   "cell_type": "markdown",
   "id": "ab3405bb-fabd-45c0-a2d2-17878fc8e4f9",
   "metadata": {},
   "source": [
    "The subquery above returns a single column"
   ]
  },
  {
   "cell_type": "markdown",
   "id": "118e51ac-3073-474b-994b-6e1fe8142ac8",
   "metadata": {},
   "source": [
    "### Resources"
   ]
  },
  {
   "cell_type": "markdown",
   "id": "ee29add8-32b3-4b9a-9130-0c12001cd919",
   "metadata": {},
   "source": [
    "[Subqueries in Select](https://www.essentialsql.com/get-ready-to-learn-sql-server-20-using-subqueries-in-the-select-statement/)\n",
    "\n",
    "[Correlated Subqueries](https://stackoverflow.com/questions/18909388/using-partition-clause-in-the-subquery)\n",
    "\n",
    "[Multiple Columns in Subquery](https://stackoverflow.com/questions/583954/how-can-i-select-multiple-columns-from-a-subquery-in-sql-server-that-should-ha)"
   ]
  }
 ],
 "metadata": {
  "kernelspec": {
   "display_name": "Python 3",
   "language": "python",
   "name": "python3"
  },
  "language_info": {
   "codemirror_mode": {
    "name": "ipython",
    "version": 3
   },
   "file_extension": ".py",
   "mimetype": "text/x-python",
   "name": "python",
   "nbconvert_exporter": "python",
   "pygments_lexer": "ipython3",
   "version": "3.8.8"
  }
 },
 "nbformat": 4,
 "nbformat_minor": 5
}
